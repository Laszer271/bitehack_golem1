{
 "cells": [
  {
   "cell_type": "code",
   "execution_count": 60,
   "metadata": {},
   "outputs": [],
   "source": [
    "import pandas as pd\n",
    "import emot\n",
    "import re"
   ]
  },
  {
   "cell_type": "code",
   "execution_count": 2,
   "metadata": {},
   "outputs": [],
   "source": [
    "happy = pd.read_excel('happy.xlsx')\n",
    "sad = pd.read_excel('sad.xlsx')\n",
    "angry = pd.read_excel('angry.xlsx')\n",
    "disappointed = pd.read_excel('disappointed.xlsx')"
   ]
  },
  {
   "cell_type": "code",
   "execution_count": 63,
   "metadata": {},
   "outputs": [
    {
     "data": {
      "text/plain": [
       "Index(['Tweet Id', 'Text', 'Name', 'Screen Name', 'UTC', 'Created At',\n",
       "       'Favorites', 'Retweets', 'Language', 'Client', 'Tweet Type', 'URLs',\n",
       "       'Hashtags', 'Mentions', 'Media Type', 'Media URLs', 'Unnamed: 16',\n",
       "       'Unnamed: 17', 'Unnamed: 18', 'happy', 'label'],\n",
       "      dtype='object')"
      ]
     },
     "execution_count": 63,
     "metadata": {},
     "output_type": "execute_result"
    }
   ],
   "source": [
    "happy.columns"
   ]
  },
  {
   "cell_type": "code",
   "execution_count": 64,
   "metadata": {},
   "outputs": [],
   "source": [
    "happy['label'] = 'happy'\n",
    "sad['label'] = 'sad'\n",
    "angry['label'] = 'angry'\n",
    "disappointed['label'] = 'disappointed'\n",
    "\n",
    "ds = pd.concat([happy, sad, angry, disappointed])\n",
    "ds = ds[ds['Language'] == 'en']\n",
    "ds = ds[['Text', 'Hashtags', 'Media URLs', 'label', 'Media Type']]\n",
    "ds['emoi'] = ' '\n",
    "ds['hashtags'] = ' '\n",
    "ds = ds.reset_index(drop = True)"
   ]
  },
  {
   "cell_type": "code",
   "execution_count": 65,
   "metadata": {},
   "outputs": [
    {
     "name": "stderr",
     "output_type": "stream",
     "text": [
      "c:\\Users\\QbaSo\\bootcamp_env\\lib\\site-packages\\pandas\\core\\indexing.py:1732: SettingWithCopyWarning: \n",
      "A value is trying to be set on a copy of a slice from a DataFrame\n",
      "\n",
      "See the caveats in the documentation: https://pandas.pydata.org/pandas-docs/stable/user_guide/indexing.html#returning-a-view-versus-a-copy\n",
      "  self._setitem_single_block(indexer, value, name)\n"
     ]
    }
   ],
   "source": [
    "emot_obj = emot.core.emot()\n",
    "for i in range(ds.shape[0]):\n",
    "    text = ds['Text'][i]\n",
    "    ds['emoi'].iloc[i] = emot_obj.emoji(text)['value']\n",
    "\n",
    "    ds['hashtags'].iloc[i] = re.findall(r\"#(\\w+)\", text)"
   ]
  }
 ],
 "metadata": {
  "interpreter": {
   "hash": "60f192166361da6162c6342dbfaafb983ae0df57aa39ff8cb87dd9c1528ec96d"
  },
  "kernelspec": {
   "display_name": "Python 3.9.7 64-bit ('bootcamp_env': venv)",
   "language": "python",
   "name": "python3"
  },
  "language_info": {
   "codemirror_mode": {
    "name": "ipython",
    "version": 3
   },
   "file_extension": ".py",
   "mimetype": "text/x-python",
   "name": "python",
   "nbconvert_exporter": "python",
   "pygments_lexer": "ipython3",
   "version": "3.9.7"
  },
  "orig_nbformat": 4
 },
 "nbformat": 4,
 "nbformat_minor": 2
}
