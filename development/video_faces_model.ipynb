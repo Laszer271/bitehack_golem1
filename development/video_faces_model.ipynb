{
 "cells": [
  {
   "cell_type": "code",
   "execution_count": 11,
   "metadata": {},
   "outputs": [],
   "source": [
    "import fer\n",
    "import cv2\n",
    "import requests\n",
    "\n",
    "import matplotlib.pyplot as plt\n",
    "\n",
    "from pathlib import Path"
   ]
  },
  {
   "cell_type": "code",
   "execution_count": 29,
   "metadata": {},
   "outputs": [],
   "source": [
    "video_url = 'http://github.com/justinshenk/fer/blob/master/tests/woman2.mp4'\n",
    "Path(\"./faces_data/videos/\").mkdir(parents=True, exist_ok=True)"
   ]
  },
  {
   "cell_type": "code",
   "execution_count": 14,
   "metadata": {},
   "outputs": [
    {
     "data": {
      "text/plain": [
       "('./faces_data/videos/video.mp4', <http.client.HTTPMessage at 0x1ea1c23adc0>)"
      ]
     },
     "execution_count": 14,
     "metadata": {},
     "output_type": "execute_result"
    }
   ],
   "source": [
    "import urllib.request\n",
    "urllib.request.urlretrieve(video_url, './faces_data/videos/video.mp4') "
   ]
  },
  {
   "cell_type": "code",
   "execution_count": 47,
   "metadata": {},
   "outputs": [],
   "source": [
    "detector = fer.FER(mtcnn=True)\n",
    "\"\"\"\n",
    "Detects 7 classes overall:\n",
    "* angry\n",
    "* disgust\n",
    "* fear\n",
    "* happy \n",
    "* sad \n",
    "* suprise\n",
    "* neutral\n",
    "\n",
    "and creates time-series plot\n",
    "\"\"\"\n",
    "\n",
    "# video = fer.Video('./faces_data/videos/video.mp4')\n",
    "video = cv2.VideoCapture('sample_video.mp4')\n",
    "\n",
    "while video.isOpened():\n",
    "    print('Opened')\n",
    "    ret, frame = video.read()\n",
    "    print(ret, frame)"
   ]
  },
  {
   "cell_type": "code",
   "execution_count": 41,
   "metadata": {},
   "outputs": [
    {
     "ename": "AssertionError",
     "evalue": "Video capture not opening",
     "output_type": "error",
     "traceback": [
      "\u001b[1;31m---------------------------------------------------------------------------\u001b[0m",
      "\u001b[1;31mAssertionError\u001b[0m                            Traceback (most recent call last)",
      "Input \u001b[1;32mIn [41]\u001b[0m, in \u001b[0;36m<module>\u001b[1;34m\u001b[0m\n\u001b[0;32m      1\u001b[0m \u001b[38;5;66;03m# Output is a list of dictionaries\u001b[39;00m\n\u001b[1;32m----> 2\u001b[0m raw_data \u001b[38;5;241m=\u001b[39m \u001b[43mvideo\u001b[49m\u001b[38;5;241;43m.\u001b[39;49m\u001b[43manalyze\u001b[49m\u001b[43m(\u001b[49m\u001b[43mdetector\u001b[49m\u001b[43m,\u001b[49m\u001b[43m \u001b[49m\u001b[43mdisplay\u001b[49m\u001b[38;5;241;43m=\u001b[39;49m\u001b[38;5;28;43;01mFalse\u001b[39;49;00m\u001b[43m,\u001b[49m\u001b[43m \u001b[49m\u001b[43mfrequency\u001b[49m\u001b[38;5;241;43m=\u001b[39;49m\u001b[38;5;241;43m15\u001b[39;49m\u001b[43m)\u001b[49m\n\u001b[0;32m      4\u001b[0m \u001b[38;5;66;03m# Convert to pandas for analysis\u001b[39;00m\n\u001b[0;32m      5\u001b[0m df \u001b[38;5;241m=\u001b[39m video\u001b[38;5;241m.\u001b[39mto_pandas(raw_data)\n",
      "File \u001b[1;32mc:\\Users\\Maciek\\__repos\\bitehack_golem1\\venv\\lib\\site-packages\\fer\\classes.py:179\u001b[0m, in \u001b[0;36mVideo.analyze\u001b[1;34m(self, detector, display, output, frequency, max_results, save_fps, video_id, save_frames, save_video, annotate_frames, zip_images, detection_box)\u001b[0m\n\u001b[0;32m    176\u001b[0m results_nr \u001b[38;5;241m=\u001b[39m \u001b[38;5;241m0\u001b[39m\n\u001b[0;32m    178\u001b[0m \u001b[38;5;66;03m# Open video\u001b[39;00m\n\u001b[1;32m--> 179\u001b[0m \u001b[38;5;28;01massert\u001b[39;00m \u001b[38;5;28mself\u001b[39m\u001b[38;5;241m.\u001b[39mcap\u001b[38;5;241m.\u001b[39mopen(\u001b[38;5;28mself\u001b[39m\u001b[38;5;241m.\u001b[39mfilepath), \u001b[38;5;124m\"\u001b[39m\u001b[38;5;124mVideo capture not opening\u001b[39m\u001b[38;5;124m\"\u001b[39m\n\u001b[0;32m    180\u001b[0m \u001b[38;5;28mself\u001b[39m\u001b[38;5;241m.\u001b[39m__emotions \u001b[38;5;241m=\u001b[39m detector\u001b[38;5;241m.\u001b[39m_get_labels()\u001b[38;5;241m.\u001b[39mitems()\n\u001b[0;32m    181\u001b[0m \u001b[38;5;28mself\u001b[39m\u001b[38;5;241m.\u001b[39mcap\u001b[38;5;241m.\u001b[39mset(cv2\u001b[38;5;241m.\u001b[39mCAP_PROP_POS_FRAMES, \u001b[38;5;241m0\u001b[39m)\n",
      "\u001b[1;31mAssertionError\u001b[0m: Video capture not opening"
     ]
    }
   ],
   "source": [
    "# Output is a list of dictionaries\n",
    "raw_data = video.analyze(detector, display=False, frequency=15)\n",
    "\n",
    "# Convert to pandas for analysis\n",
    "df = video.to_pandas(raw_data)\n",
    "df = video.get_first_face(df)\n",
    "df = video.get_emotions(df)\n",
    "\n",
    "# Plot emotions\n",
    "df.plot()\n",
    "plt.show()"
   ]
  },
  {
   "cell_type": "code",
   "execution_count": 32,
   "metadata": {},
   "outputs": [],
   "source": [
    "import requests\n",
    "\n",
    "def download_file(name, url):\n",
    "    name=name+\".mp4\"\n",
    "    r=requests.get(url)\n",
    "    print (\"****Connected****\")\n",
    "    f=open(name,'wb')\n",
    "    print (\"Donloading.....\")\n",
    "    for chunk in r.iter_content(chunk_size=255): \n",
    "        if chunk: # filter out keep-alive new chunks\n",
    "            f.write(chunk)\n",
    "    print (\"Done\")\n",
    "    f.close()"
   ]
  },
  {
   "cell_type": "code",
   "execution_count": 33,
   "metadata": {},
   "outputs": [
    {
     "name": "stdout",
     "output_type": "stream",
     "text": [
      "****Connected****\n",
      "Donloading.....\n",
      "Done\n"
     ]
    }
   ],
   "source": [
    "download_file('sample_video', video_url)"
   ]
  },
  {
   "cell_type": "code",
   "execution_count": null,
   "metadata": {},
   "outputs": [],
   "source": []
  }
 ],
 "metadata": {
  "interpreter": {
   "hash": "7a19fcfb67870ef4c5e6bd3b2f8f8af7f68cf36ccc67c59e9f85525212b1037b"
  },
  "kernelspec": {
   "display_name": "Python 3.9.7 64-bit ('venv': venv)",
   "language": "python",
   "name": "python3"
  },
  "language_info": {
   "codemirror_mode": {
    "name": "ipython",
    "version": 3
   },
   "file_extension": ".py",
   "mimetype": "text/x-python",
   "name": "python",
   "nbconvert_exporter": "python",
   "pygments_lexer": "ipython3",
   "version": "3.9.7"
  },
  "orig_nbformat": 4
 },
 "nbformat": 4,
 "nbformat_minor": 2
}
