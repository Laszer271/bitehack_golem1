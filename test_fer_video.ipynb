{
 "cells": [
  {
   "cell_type": "code",
   "execution_count": 2,
   "metadata": {},
   "outputs": [],
   "source": [
    "import os\n",
    "import sys\n",
    "\n",
    "import matplotlib\n",
    "import matplotlib.pyplot as plt\n",
    "\n",
    "from fer import FER, Video\n"
   ]
  },
  {
   "cell_type": "code",
   "execution_count": 3,
   "metadata": {},
   "outputs": [],
   "source": [
    "if os.name == 'posix' and \"DISPLAY\" not in os.environ:\n",
    "    matplotlib.use(\"Agg\")"
   ]
  },
  {
   "cell_type": "code",
   "execution_count": 5,
   "metadata": {},
   "outputs": [
    {
     "ename": "AssertionError",
     "evalue": "Video file not found at c:\\Users\\Maciek\\__repos\\bitehack_golem1\\sample\\videos\\woman.mp4",
     "output_type": "error",
     "traceback": [
      "\u001b[1;31m---------------------------------------------------------------------------\u001b[0m",
      "\u001b[1;31mAssertionError\u001b[0m                            Traceback (most recent call last)",
      "Input \u001b[1;32mIn [5]\u001b[0m, in \u001b[0;36m<module>\u001b[1;34m\u001b[0m\n\u001b[0;32m      5\u001b[0m videofile \u001b[38;5;241m=\u001b[39m \u001b[38;5;124m\"\u001b[39m\u001b[38;5;124m./sample/videos/woman.mp4\u001b[39m\u001b[38;5;124m\"\u001b[39m\n\u001b[0;32m      6\u001b[0m detector \u001b[38;5;241m=\u001b[39m FER(mtcnn\u001b[38;5;241m=\u001b[39m\u001b[38;5;28;01mTrue\u001b[39;00m)\n\u001b[1;32m----> 8\u001b[0m video \u001b[38;5;241m=\u001b[39m \u001b[43mVideo\u001b[49m\u001b[43m(\u001b[49m\u001b[43mvideofile\u001b[49m\u001b[43m)\u001b[49m\n\u001b[0;32m     10\u001b[0m \u001b[38;5;66;03m# Output list of dictionaries\u001b[39;00m\n\u001b[0;32m     11\u001b[0m raw_data \u001b[38;5;241m=\u001b[39m video\u001b[38;5;241m.\u001b[39manalyze(detector, display\u001b[38;5;241m=\u001b[39m\u001b[38;5;28;01mFalse\u001b[39;00m)\n",
      "File \u001b[1;32mc:\\Users\\Maciek\\__repos\\bitehack_golem1\\venv\\lib\\site-packages\\fer\\classes.py:30\u001b[0m, in \u001b[0;36mVideo.__init__\u001b[1;34m(self, video_file, outdir, first_face_only, tempfile)\u001b[0m\n\u001b[0;32m     20\u001b[0m \u001b[38;5;28;01mdef\u001b[39;00m \u001b[38;5;21m__init__\u001b[39m(\n\u001b[0;32m     21\u001b[0m     \u001b[38;5;28mself\u001b[39m, video_file:\u001b[38;5;28mstr\u001b[39m, outdir:\u001b[38;5;28mstr\u001b[39m\u001b[38;5;241m=\u001b[39m\u001b[38;5;124m\"\u001b[39m\u001b[38;5;124moutput\u001b[39m\u001b[38;5;124m\"\u001b[39m, first_face_only:\u001b[38;5;28mbool\u001b[39m\u001b[38;5;241m=\u001b[39m\u001b[38;5;28;01mTrue\u001b[39;00m, tempfile:Optional[\u001b[38;5;28mstr\u001b[39m]\u001b[38;5;241m=\u001b[39m\u001b[38;5;28;01mNone\u001b[39;00m\n\u001b[0;32m     22\u001b[0m ):\n\u001b[0;32m     23\u001b[0m     \u001b[38;5;124;03m\"\"\"Video class for extracting and saving frames for emotion detection.\u001b[39;00m\n\u001b[0;32m     24\u001b[0m \u001b[38;5;124;03m    :param video_file - str\u001b[39;00m\n\u001b[0;32m     25\u001b[0m \u001b[38;5;124;03m    :param outdir - str\u001b[39;00m\n\u001b[1;32m   (...)\u001b[0m\n\u001b[0;32m     28\u001b[0m \u001b[38;5;124;03m    :param tempfile - str\u001b[39;00m\n\u001b[0;32m     29\u001b[0m \u001b[38;5;124;03m    \"\"\"\u001b[39;00m\n\u001b[1;32m---> 30\u001b[0m     \u001b[38;5;28;01massert\u001b[39;00m os\u001b[38;5;241m.\u001b[39mpath\u001b[38;5;241m.\u001b[39mexists(video_file), \u001b[38;5;124m\"\u001b[39m\u001b[38;5;124mVideo file not found at \u001b[39m\u001b[38;5;132;01m{}\u001b[39;00m\u001b[38;5;124m\"\u001b[39m\u001b[38;5;241m.\u001b[39mformat(\n\u001b[0;32m     31\u001b[0m         os\u001b[38;5;241m.\u001b[39mpath\u001b[38;5;241m.\u001b[39mabspath(video_file)\n\u001b[0;32m     32\u001b[0m     )\n\u001b[0;32m     33\u001b[0m     \u001b[38;5;28mself\u001b[39m\u001b[38;5;241m.\u001b[39mcap \u001b[38;5;241m=\u001b[39m cv2\u001b[38;5;241m.\u001b[39mVideoCapture(video_file)\n\u001b[0;32m     34\u001b[0m     \u001b[38;5;28;01mif\u001b[39;00m \u001b[38;5;129;01mnot\u001b[39;00m os\u001b[38;5;241m.\u001b[39mpath\u001b[38;5;241m.\u001b[39misdir(outdir):\n",
      "\u001b[1;31mAssertionError\u001b[0m: Video file not found at c:\\Users\\Maciek\\__repos\\bitehack_golem1\\sample\\videos\\woman.mp4"
     ]
    }
   ],
   "source": [
    "# if __name__ == \"__main__\":\n",
    "#     try:\n",
    "#         videofile = sys.argv[1]\n",
    "#     except:\n",
    "videofile = \"./sample/videos/woman.mp4\"\n",
    "detector = FER(mtcnn=True)\n",
    "\n",
    "video = Video(videofile)\n",
    "\n",
    "# Output list of dictionaries\n",
    "raw_data = video.analyze(detector, display=False)\n",
    "\n",
    "# Convert to pandas for analysis\n",
    "df = video.to_pandas(raw_data)\n",
    "df = video.get_first_face(df)\n",
    "df = video.get_emotions(df)\n",
    "\n",
    "# Plot emotions\n",
    "df.plot()\n",
    "plt.show()"
   ]
  },
  {
   "cell_type": "code",
   "execution_count": null,
   "metadata": {},
   "outputs": [],
   "source": []
  },
  {
   "cell_type": "code",
   "execution_count": null,
   "metadata": {},
   "outputs": [],
   "source": []
  }
 ],
 "metadata": {
  "interpreter": {
   "hash": "7a19fcfb67870ef4c5e6bd3b2f8f8af7f68cf36ccc67c59e9f85525212b1037b"
  },
  "kernelspec": {
   "display_name": "Python 3.9.7 64-bit ('venv': venv)",
   "language": "python",
   "name": "python3"
  },
  "language_info": {
   "codemirror_mode": {
    "name": "ipython",
    "version": 3
   },
   "file_extension": ".py",
   "mimetype": "text/x-python",
   "name": "python",
   "nbconvert_exporter": "python",
   "pygments_lexer": "ipython3",
   "version": "3.9.7"
  },
  "orig_nbformat": 4
 },
 "nbformat": 4,
 "nbformat_minor": 2
}
