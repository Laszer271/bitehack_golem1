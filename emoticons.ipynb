{
 "cells": [
  {
   "cell_type": "code",
   "execution_count": 1,
   "metadata": {},
   "outputs": [],
   "source": [
    "import pickle\n",
    "import os\n",
    "def f(dict, path):\n",
    "    path = os.path.join(path, dict)\n",
    "    with open(path, 'rb') as f:\n",
    "        return pickle.load(f)\n",
    "\n",
    "path = os.path.join(\"emoji_data\")\n",
    "files = os.listdir(path)\n",
    "loaded_dicts = [f(file, path) for file in files]"
   ]
  },
  {
   "cell_type": "code",
   "execution_count": 2,
   "metadata": {},
   "outputs": [],
   "source": [
    "dics_names = [\n",
    "    \"EMOJI_UNICODE\",\n",
    "    \"UNICODE_EMOJI\",\n",
    "    \"EMOJI_ALIAS_UNICODE\",\n",
    "    \"UNICODE_EMOJI_ALIAS\",\n",
    "    \"EMOTICONS_EMO\",\n",
    "]"
   ]
  },
  {
   "cell_type": "code",
   "execution_count": 3,
   "metadata": {},
   "outputs": [],
   "source": [
    "import numpy as np\n",
    "import pandas as pd"
   ]
  },
  {
   "cell_type": "code",
   "execution_count": 4,
   "metadata": {},
   "outputs": [
    {
     "name": "stdout",
     "output_type": "stream",
     "text": [
      "(3521,)\n"
     ]
    }
   ],
   "source": [
    "keys = np.array(list(loaded_dicts[3].keys()))\n",
    "print(keys.shape)"
   ]
  },
  {
   "cell_type": "code",
   "execution_count": 5,
   "metadata": {},
   "outputs": [],
   "source": [
    "def find_indeces(columns, values):\n",
    "    columns = columns.flatten()\n",
    "    inds = np.array([np.where(columns == searchval)[0] for searchval in values]).flatten()\n",
    "    return inds"
   ]
  },
  {
   "cell_type": "code",
   "execution_count": 6,
   "metadata": {},
   "outputs": [
    {
     "name": "stderr",
     "output_type": "stream",
     "text": [
      "<ipython-input-6-bc49e4fd9974>:5: SettingWithCopyWarning: \n",
      "A value is trying to be set on a copy of a slice from a DataFrame.\n",
      "Try using .loc[row_indexer,col_indexer] = value instead\n",
      "\n",
      "See the caveats in the documentation: https://pandas.pydata.org/pandas-docs/stable/user_guide/indexing.html#returning-a-view-versus-a-copy\n",
      "  dropped_empty['emoi']=dropped_empty['emoi'].apply(ast.literal_eval)\n"
     ]
    }
   ],
   "source": [
    "main = pd.read_csv(\"dataset_.csv\")[[\"emoi\",\"label\"]]\n",
    "\n",
    "dropped_empty = main[main.emoi != \"[]\"]\n",
    "import ast\n",
    "dropped_empty['emoi']=dropped_empty['emoi'].apply(ast.literal_eval)\n",
    "emojis_set = dropped_empty.emoi.to_list()\n",
    "encoded = np.zeros((len(emojis_set),keys.shape[0]))\n",
    "for row, emojis in zip(encoded, emojis_set):\n",
    "    row[find_indeces(keys,emojis)] = 1\n",
    "encoded_df = pd.DataFrame(encoded)\n",
    "dropped_empty.reset_index(drop=True, inplace=True)\n",
    "dropped_empty.index\n",
    "merged = dropped_empty.join(encoded_df)\n",
    "merged.drop(columns=\"emoi\", inplace=True)"
   ]
  },
  {
   "cell_type": "code",
   "execution_count": 7,
   "metadata": {},
   "outputs": [
    {
     "data": {
      "text/html": [
       "<div>\n",
       "<style scoped>\n",
       "    .dataframe tbody tr th:only-of-type {\n",
       "        vertical-align: middle;\n",
       "    }\n",
       "\n",
       "    .dataframe tbody tr th {\n",
       "        vertical-align: top;\n",
       "    }\n",
       "\n",
       "    .dataframe thead th {\n",
       "        text-align: right;\n",
       "    }\n",
       "</style>\n",
       "<table border=\"1\" class=\"dataframe\">\n",
       "  <thead>\n",
       "    <tr style=\"text-align: right;\">\n",
       "      <th></th>\n",
       "      <th>label</th>\n",
       "      <th>0</th>\n",
       "      <th>1</th>\n",
       "      <th>2</th>\n",
       "      <th>3</th>\n",
       "      <th>4</th>\n",
       "      <th>5</th>\n",
       "      <th>6</th>\n",
       "      <th>7</th>\n",
       "      <th>8</th>\n",
       "      <th>...</th>\n",
       "      <th>3511</th>\n",
       "      <th>3512</th>\n",
       "      <th>3513</th>\n",
       "      <th>3514</th>\n",
       "      <th>3515</th>\n",
       "      <th>3516</th>\n",
       "      <th>3517</th>\n",
       "      <th>3518</th>\n",
       "      <th>3519</th>\n",
       "      <th>3520</th>\n",
       "    </tr>\n",
       "  </thead>\n",
       "  <tbody>\n",
       "    <tr>\n",
       "      <th>0</th>\n",
       "      <td>happy</td>\n",
       "      <td>0.0</td>\n",
       "      <td>0.0</td>\n",
       "      <td>0.0</td>\n",
       "      <td>0.0</td>\n",
       "      <td>0.0</td>\n",
       "      <td>0.0</td>\n",
       "      <td>0.0</td>\n",
       "      <td>0.0</td>\n",
       "      <td>0.0</td>\n",
       "      <td>...</td>\n",
       "      <td>0.0</td>\n",
       "      <td>0.0</td>\n",
       "      <td>0.0</td>\n",
       "      <td>0.0</td>\n",
       "      <td>0.0</td>\n",
       "      <td>0.0</td>\n",
       "      <td>0.0</td>\n",
       "      <td>0.0</td>\n",
       "      <td>0.0</td>\n",
       "      <td>0.0</td>\n",
       "    </tr>\n",
       "    <tr>\n",
       "      <th>1</th>\n",
       "      <td>happy</td>\n",
       "      <td>0.0</td>\n",
       "      <td>0.0</td>\n",
       "      <td>0.0</td>\n",
       "      <td>0.0</td>\n",
       "      <td>0.0</td>\n",
       "      <td>0.0</td>\n",
       "      <td>0.0</td>\n",
       "      <td>0.0</td>\n",
       "      <td>0.0</td>\n",
       "      <td>...</td>\n",
       "      <td>0.0</td>\n",
       "      <td>0.0</td>\n",
       "      <td>0.0</td>\n",
       "      <td>0.0</td>\n",
       "      <td>0.0</td>\n",
       "      <td>0.0</td>\n",
       "      <td>0.0</td>\n",
       "      <td>0.0</td>\n",
       "      <td>0.0</td>\n",
       "      <td>0.0</td>\n",
       "    </tr>\n",
       "    <tr>\n",
       "      <th>2</th>\n",
       "      <td>happy</td>\n",
       "      <td>0.0</td>\n",
       "      <td>0.0</td>\n",
       "      <td>0.0</td>\n",
       "      <td>0.0</td>\n",
       "      <td>0.0</td>\n",
       "      <td>0.0</td>\n",
       "      <td>0.0</td>\n",
       "      <td>0.0</td>\n",
       "      <td>0.0</td>\n",
       "      <td>...</td>\n",
       "      <td>0.0</td>\n",
       "      <td>0.0</td>\n",
       "      <td>0.0</td>\n",
       "      <td>0.0</td>\n",
       "      <td>0.0</td>\n",
       "      <td>0.0</td>\n",
       "      <td>0.0</td>\n",
       "      <td>0.0</td>\n",
       "      <td>0.0</td>\n",
       "      <td>0.0</td>\n",
       "    </tr>\n",
       "    <tr>\n",
       "      <th>3</th>\n",
       "      <td>happy</td>\n",
       "      <td>0.0</td>\n",
       "      <td>0.0</td>\n",
       "      <td>0.0</td>\n",
       "      <td>0.0</td>\n",
       "      <td>0.0</td>\n",
       "      <td>0.0</td>\n",
       "      <td>0.0</td>\n",
       "      <td>0.0</td>\n",
       "      <td>0.0</td>\n",
       "      <td>...</td>\n",
       "      <td>0.0</td>\n",
       "      <td>0.0</td>\n",
       "      <td>0.0</td>\n",
       "      <td>0.0</td>\n",
       "      <td>0.0</td>\n",
       "      <td>0.0</td>\n",
       "      <td>0.0</td>\n",
       "      <td>0.0</td>\n",
       "      <td>0.0</td>\n",
       "      <td>0.0</td>\n",
       "    </tr>\n",
       "    <tr>\n",
       "      <th>4</th>\n",
       "      <td>happy</td>\n",
       "      <td>0.0</td>\n",
       "      <td>0.0</td>\n",
       "      <td>0.0</td>\n",
       "      <td>0.0</td>\n",
       "      <td>0.0</td>\n",
       "      <td>0.0</td>\n",
       "      <td>0.0</td>\n",
       "      <td>0.0</td>\n",
       "      <td>0.0</td>\n",
       "      <td>...</td>\n",
       "      <td>0.0</td>\n",
       "      <td>0.0</td>\n",
       "      <td>0.0</td>\n",
       "      <td>0.0</td>\n",
       "      <td>0.0</td>\n",
       "      <td>0.0</td>\n",
       "      <td>0.0</td>\n",
       "      <td>0.0</td>\n",
       "      <td>0.0</td>\n",
       "      <td>0.0</td>\n",
       "    </tr>\n",
       "    <tr>\n",
       "      <th>...</th>\n",
       "      <td>...</td>\n",
       "      <td>...</td>\n",
       "      <td>...</td>\n",
       "      <td>...</td>\n",
       "      <td>...</td>\n",
       "      <td>...</td>\n",
       "      <td>...</td>\n",
       "      <td>...</td>\n",
       "      <td>...</td>\n",
       "      <td>...</td>\n",
       "      <td>...</td>\n",
       "      <td>...</td>\n",
       "      <td>...</td>\n",
       "      <td>...</td>\n",
       "      <td>...</td>\n",
       "      <td>...</td>\n",
       "      <td>...</td>\n",
       "      <td>...</td>\n",
       "      <td>...</td>\n",
       "      <td>...</td>\n",
       "      <td>...</td>\n",
       "    </tr>\n",
       "    <tr>\n",
       "      <th>2583</th>\n",
       "      <td>disappointed</td>\n",
       "      <td>0.0</td>\n",
       "      <td>0.0</td>\n",
       "      <td>0.0</td>\n",
       "      <td>0.0</td>\n",
       "      <td>0.0</td>\n",
       "      <td>0.0</td>\n",
       "      <td>0.0</td>\n",
       "      <td>0.0</td>\n",
       "      <td>0.0</td>\n",
       "      <td>...</td>\n",
       "      <td>0.0</td>\n",
       "      <td>0.0</td>\n",
       "      <td>0.0</td>\n",
       "      <td>0.0</td>\n",
       "      <td>0.0</td>\n",
       "      <td>0.0</td>\n",
       "      <td>0.0</td>\n",
       "      <td>0.0</td>\n",
       "      <td>0.0</td>\n",
       "      <td>0.0</td>\n",
       "    </tr>\n",
       "    <tr>\n",
       "      <th>2584</th>\n",
       "      <td>disappointed</td>\n",
       "      <td>0.0</td>\n",
       "      <td>0.0</td>\n",
       "      <td>0.0</td>\n",
       "      <td>0.0</td>\n",
       "      <td>0.0</td>\n",
       "      <td>0.0</td>\n",
       "      <td>0.0</td>\n",
       "      <td>0.0</td>\n",
       "      <td>0.0</td>\n",
       "      <td>...</td>\n",
       "      <td>0.0</td>\n",
       "      <td>0.0</td>\n",
       "      <td>0.0</td>\n",
       "      <td>0.0</td>\n",
       "      <td>0.0</td>\n",
       "      <td>0.0</td>\n",
       "      <td>0.0</td>\n",
       "      <td>0.0</td>\n",
       "      <td>0.0</td>\n",
       "      <td>0.0</td>\n",
       "    </tr>\n",
       "    <tr>\n",
       "      <th>2585</th>\n",
       "      <td>disappointed</td>\n",
       "      <td>0.0</td>\n",
       "      <td>0.0</td>\n",
       "      <td>0.0</td>\n",
       "      <td>0.0</td>\n",
       "      <td>0.0</td>\n",
       "      <td>0.0</td>\n",
       "      <td>0.0</td>\n",
       "      <td>0.0</td>\n",
       "      <td>0.0</td>\n",
       "      <td>...</td>\n",
       "      <td>0.0</td>\n",
       "      <td>0.0</td>\n",
       "      <td>0.0</td>\n",
       "      <td>0.0</td>\n",
       "      <td>0.0</td>\n",
       "      <td>0.0</td>\n",
       "      <td>0.0</td>\n",
       "      <td>0.0</td>\n",
       "      <td>0.0</td>\n",
       "      <td>0.0</td>\n",
       "    </tr>\n",
       "    <tr>\n",
       "      <th>2586</th>\n",
       "      <td>disappointed</td>\n",
       "      <td>0.0</td>\n",
       "      <td>0.0</td>\n",
       "      <td>0.0</td>\n",
       "      <td>0.0</td>\n",
       "      <td>0.0</td>\n",
       "      <td>0.0</td>\n",
       "      <td>0.0</td>\n",
       "      <td>0.0</td>\n",
       "      <td>0.0</td>\n",
       "      <td>...</td>\n",
       "      <td>0.0</td>\n",
       "      <td>0.0</td>\n",
       "      <td>0.0</td>\n",
       "      <td>0.0</td>\n",
       "      <td>0.0</td>\n",
       "      <td>0.0</td>\n",
       "      <td>0.0</td>\n",
       "      <td>0.0</td>\n",
       "      <td>0.0</td>\n",
       "      <td>0.0</td>\n",
       "    </tr>\n",
       "    <tr>\n",
       "      <th>2587</th>\n",
       "      <td>disappointed</td>\n",
       "      <td>0.0</td>\n",
       "      <td>0.0</td>\n",
       "      <td>0.0</td>\n",
       "      <td>0.0</td>\n",
       "      <td>0.0</td>\n",
       "      <td>0.0</td>\n",
       "      <td>0.0</td>\n",
       "      <td>0.0</td>\n",
       "      <td>0.0</td>\n",
       "      <td>...</td>\n",
       "      <td>0.0</td>\n",
       "      <td>0.0</td>\n",
       "      <td>0.0</td>\n",
       "      <td>0.0</td>\n",
       "      <td>0.0</td>\n",
       "      <td>0.0</td>\n",
       "      <td>0.0</td>\n",
       "      <td>0.0</td>\n",
       "      <td>0.0</td>\n",
       "      <td>0.0</td>\n",
       "    </tr>\n",
       "  </tbody>\n",
       "</table>\n",
       "<p>2588 rows × 3522 columns</p>\n",
       "</div>"
      ],
      "text/plain": [
       "             label    0    1    2    3    4    5    6    7    8  ...  3511  \\\n",
       "0            happy  0.0  0.0  0.0  0.0  0.0  0.0  0.0  0.0  0.0  ...   0.0   \n",
       "1            happy  0.0  0.0  0.0  0.0  0.0  0.0  0.0  0.0  0.0  ...   0.0   \n",
       "2            happy  0.0  0.0  0.0  0.0  0.0  0.0  0.0  0.0  0.0  ...   0.0   \n",
       "3            happy  0.0  0.0  0.0  0.0  0.0  0.0  0.0  0.0  0.0  ...   0.0   \n",
       "4            happy  0.0  0.0  0.0  0.0  0.0  0.0  0.0  0.0  0.0  ...   0.0   \n",
       "...            ...  ...  ...  ...  ...  ...  ...  ...  ...  ...  ...   ...   \n",
       "2583  disappointed  0.0  0.0  0.0  0.0  0.0  0.0  0.0  0.0  0.0  ...   0.0   \n",
       "2584  disappointed  0.0  0.0  0.0  0.0  0.0  0.0  0.0  0.0  0.0  ...   0.0   \n",
       "2585  disappointed  0.0  0.0  0.0  0.0  0.0  0.0  0.0  0.0  0.0  ...   0.0   \n",
       "2586  disappointed  0.0  0.0  0.0  0.0  0.0  0.0  0.0  0.0  0.0  ...   0.0   \n",
       "2587  disappointed  0.0  0.0  0.0  0.0  0.0  0.0  0.0  0.0  0.0  ...   0.0   \n",
       "\n",
       "      3512  3513  3514  3515  3516  3517  3518  3519  3520  \n",
       "0      0.0   0.0   0.0   0.0   0.0   0.0   0.0   0.0   0.0  \n",
       "1      0.0   0.0   0.0   0.0   0.0   0.0   0.0   0.0   0.0  \n",
       "2      0.0   0.0   0.0   0.0   0.0   0.0   0.0   0.0   0.0  \n",
       "3      0.0   0.0   0.0   0.0   0.0   0.0   0.0   0.0   0.0  \n",
       "4      0.0   0.0   0.0   0.0   0.0   0.0   0.0   0.0   0.0  \n",
       "...    ...   ...   ...   ...   ...   ...   ...   ...   ...  \n",
       "2583   0.0   0.0   0.0   0.0   0.0   0.0   0.0   0.0   0.0  \n",
       "2584   0.0   0.0   0.0   0.0   0.0   0.0   0.0   0.0   0.0  \n",
       "2585   0.0   0.0   0.0   0.0   0.0   0.0   0.0   0.0   0.0  \n",
       "2586   0.0   0.0   0.0   0.0   0.0   0.0   0.0   0.0   0.0  \n",
       "2587   0.0   0.0   0.0   0.0   0.0   0.0   0.0   0.0   0.0  \n",
       "\n",
       "[2588 rows x 3522 columns]"
      ]
     },
     "execution_count": 7,
     "metadata": {},
     "output_type": "execute_result"
    }
   ],
   "source": [
    "merged"
   ]
  },
  {
   "cell_type": "code",
   "execution_count": 8,
   "metadata": {},
   "outputs": [],
   "source": [
    "y = merged.label"
   ]
  },
  {
   "cell_type": "code",
   "execution_count": 9,
   "metadata": {},
   "outputs": [
    {
     "data": {
      "text/plain": [
       "4020.0"
      ]
     },
     "execution_count": 9,
     "metadata": {},
     "output_type": "execute_result"
    }
   ],
   "source": [
    "merged.iloc[:, 1:].sum().sum()"
   ]
  },
  {
   "cell_type": "code",
   "execution_count": 10,
   "metadata": {},
   "outputs": [],
   "source": [
    "from sklearn.ensemble import RandomForestClassifier\n",
    "from sklearn.model_selection import train_test_split\n",
    "import xgboost as xgb"
   ]
  },
  {
   "cell_type": "code",
   "execution_count": 11,
   "metadata": {},
   "outputs": [],
   "source": [
    "X = merged.iloc[:, 1:]\n",
    "y = merged.iloc[:, 0]"
   ]
  },
  {
   "cell_type": "code",
   "execution_count": 12,
   "metadata": {},
   "outputs": [],
   "source": [
    "X_train, X_test, y_train, y_test = train_test_split(X, y, test_size=0.2)"
   ]
  },
  {
   "cell_type": "code",
   "execution_count": 13,
   "metadata": {},
   "outputs": [
    {
     "data": {
      "text/plain": [
       "RandomForestClassifier()"
      ]
     },
     "execution_count": 13,
     "metadata": {},
     "output_type": "execute_result"
    }
   ],
   "source": [
    "model = RandomForestClassifier()\n",
    "model.fit(X_train, y_train)"
   ]
  },
  {
   "cell_type": "code",
   "execution_count": 14,
   "metadata": {},
   "outputs": [
    {
     "data": {
      "text/plain": [
       "0.5907335907335908"
      ]
     },
     "execution_count": 14,
     "metadata": {},
     "output_type": "execute_result"
    }
   ],
   "source": [
    "sum(model.predict(X_test) == y_test) / len(y_test)"
   ]
  },
  {
   "cell_type": "code",
   "execution_count": 15,
   "metadata": {},
   "outputs": [
    {
     "data": {
      "text/plain": [
       "array(['happy', 'disappointed', 'sad', 'happy', 'sad', 'happy', 'happy',\n",
       "       'happy', 'happy', 'disappointed', 'angry', 'disappointed',\n",
       "       'disappointed', 'disappointed', 'disappointed', 'sad', 'happy',\n",
       "       'happy', 'disappointed', 'happy', 'angry', 'disappointed', 'sad',\n",
       "       'disappointed', 'disappointed', 'disappointed', 'happy',\n",
       "       'disappointed', 'angry', 'happy', 'disappointed', 'sad', 'happy',\n",
       "       'disappointed', 'angry', 'happy', 'disappointed', 'disappointed',\n",
       "       'angry', 'happy', 'sad', 'sad', 'angry', 'sad', 'angry', 'happy',\n",
       "       'happy', 'happy', 'happy', 'happy', 'angry', 'happy', 'angry',\n",
       "       'happy', 'disappointed', 'disappointed', 'happy', 'disappointed',\n",
       "       'happy', 'disappointed', 'angry', 'happy', 'happy', 'angry',\n",
       "       'happy', 'happy', 'sad', 'angry', 'happy', 'sad', 'happy', 'happy',\n",
       "       'disappointed', 'sad', 'disappointed', 'disappointed',\n",
       "       'disappointed', 'happy', 'disappointed', 'happy', 'sad', 'happy',\n",
       "       'happy', 'angry', 'sad', 'angry', 'happy', 'happy', 'disappointed',\n",
       "       'sad', 'disappointed', 'angry', 'happy', 'happy', 'happy', 'angry',\n",
       "       'disappointed', 'happy', 'sad', 'angry', 'happy', 'sad', 'happy',\n",
       "       'happy', 'happy', 'sad', 'disappointed', 'angry', 'happy',\n",
       "       'disappointed', 'angry', 'sad', 'disappointed', 'happy', 'happy',\n",
       "       'angry', 'happy', 'angry', 'sad', 'happy', 'disappointed', 'angry',\n",
       "       'sad', 'disappointed', 'disappointed', 'happy', 'happy', 'angry',\n",
       "       'happy', 'happy', 'happy', 'sad', 'sad', 'disappointed', 'sad',\n",
       "       'happy', 'happy', 'happy', 'happy', 'happy', 'sad', 'disappointed',\n",
       "       'happy', 'disappointed', 'happy', 'happy', 'happy', 'disappointed',\n",
       "       'happy', 'angry', 'happy', 'happy', 'disappointed', 'disappointed',\n",
       "       'sad', 'happy', 'angry', 'disappointed', 'sad', 'happy', 'happy',\n",
       "       'happy', 'disappointed', 'disappointed', 'sad', 'angry',\n",
       "       'disappointed', 'happy', 'happy', 'disappointed', 'angry',\n",
       "       'disappointed', 'angry', 'angry', 'disappointed', 'sad',\n",
       "       'disappointed', 'disappointed', 'angry', 'disappointed', 'happy',\n",
       "       'disappointed', 'disappointed', 'angry', 'disappointed',\n",
       "       'disappointed', 'sad', 'disappointed', 'sad', 'sad',\n",
       "       'disappointed', 'disappointed', 'disappointed', 'happy', 'angry',\n",
       "       'sad', 'sad', 'happy', 'angry', 'disappointed', 'disappointed',\n",
       "       'angry', 'sad', 'happy', 'disappointed', 'happy', 'angry', 'sad',\n",
       "       'happy', 'disappointed', 'disappointed', 'angry', 'disappointed',\n",
       "       'happy', 'happy', 'angry', 'happy', 'happy', 'disappointed',\n",
       "       'disappointed', 'angry', 'angry', 'disappointed', 'sad',\n",
       "       'disappointed', 'disappointed', 'happy', 'happy', 'angry', 'sad',\n",
       "       'disappointed', 'sad', 'angry', 'happy', 'disappointed', 'sad',\n",
       "       'angry', 'sad', 'happy', 'happy', 'happy', 'happy', 'disappointed',\n",
       "       'angry', 'happy', 'happy', 'sad', 'happy', 'sad', 'sad',\n",
       "       'disappointed', 'happy', 'happy', 'happy', 'happy', 'happy',\n",
       "       'disappointed', 'happy', 'disappointed', 'sad', 'happy', 'happy',\n",
       "       'disappointed', 'happy', 'angry', 'disappointed', 'happy', 'sad',\n",
       "       'happy', 'disappointed', 'angry', 'happy', 'happy', 'disappointed',\n",
       "       'angry', 'angry', 'sad', 'disappointed', 'happy', 'happy',\n",
       "       'disappointed', 'angry', 'angry', 'angry', 'sad', 'disappointed',\n",
       "       'disappointed', 'happy', 'sad', 'happy', 'disappointed',\n",
       "       'disappointed', 'disappointed', 'angry', 'happy', 'happy',\n",
       "       'disappointed', 'sad', 'happy', 'happy', 'disappointed', 'angry',\n",
       "       'sad', 'angry', 'sad', 'disappointed', 'happy', 'disappointed',\n",
       "       'disappointed', 'angry', 'sad', 'disappointed', 'disappointed',\n",
       "       'disappointed', 'happy', 'disappointed', 'angry', 'disappointed',\n",
       "       'disappointed', 'disappointed', 'angry', 'angry', 'happy', 'happy',\n",
       "       'sad', 'disappointed', 'happy', 'disappointed', 'angry', 'happy',\n",
       "       'happy', 'sad', 'disappointed', 'disappointed', 'angry', 'sad',\n",
       "       'happy', 'disappointed', 'happy', 'disappointed', 'happy',\n",
       "       'disappointed', 'disappointed', 'disappointed', 'sad', 'sad',\n",
       "       'angry', 'disappointed', 'happy', 'happy', 'disappointed', 'angry',\n",
       "       'happy', 'angry', 'angry', 'happy', 'happy', 'happy', 'happy',\n",
       "       'happy', 'happy', 'sad', 'happy', 'happy', 'angry', 'happy',\n",
       "       'happy', 'disappointed', 'happy', 'disappointed', 'angry',\n",
       "       'disappointed', 'disappointed', 'disappointed', 'angry', 'happy',\n",
       "       'happy', 'sad', 'disappointed', 'sad', 'angry', 'sad', 'happy',\n",
       "       'happy', 'disappointed', 'happy', 'disappointed', 'happy', 'angry',\n",
       "       'disappointed', 'angry', 'disappointed', 'angry', 'disappointed',\n",
       "       'angry', 'happy', 'sad', 'disappointed', 'happy', 'angry', 'sad',\n",
       "       'disappointed', 'angry', 'happy', 'happy', 'happy', 'happy', 'sad',\n",
       "       'disappointed', 'disappointed', 'happy', 'sad', 'happy',\n",
       "       'disappointed', 'angry', 'angry', 'happy', 'sad', 'angry', 'angry',\n",
       "       'disappointed', 'happy', 'disappointed', 'happy', 'disappointed',\n",
       "       'happy', 'happy', 'happy', 'disappointed', 'happy', 'happy', 'sad',\n",
       "       'happy', 'angry', 'disappointed', 'disappointed', 'angry',\n",
       "       'disappointed', 'happy', 'disappointed', 'disappointed', 'happy',\n",
       "       'disappointed', 'disappointed', 'disappointed', 'happy', 'angry',\n",
       "       'happy', 'happy', 'disappointed', 'happy', 'happy', 'happy',\n",
       "       'happy', 'disappointed', 'happy', 'angry', 'disappointed', 'happy',\n",
       "       'angry', 'happy', 'sad', 'sad', 'happy', 'happy', 'sad', 'angry',\n",
       "       'disappointed', 'happy', 'disappointed', 'angry', 'angry',\n",
       "       'disappointed', 'angry', 'disappointed', 'happy', 'happy',\n",
       "       'disappointed', 'sad', 'sad', 'disappointed', 'happy', 'angry',\n",
       "       'angry', 'disappointed', 'sad', 'sad', 'disappointed', 'sad',\n",
       "       'happy', 'happy', 'angry', 'sad', 'sad', 'disappointed', 'sad',\n",
       "       'happy', 'sad', 'disappointed', 'angry', 'happy', 'sad', 'sad',\n",
       "       'sad', 'disappointed', 'disappointed', 'happy', 'happy',\n",
       "       'disappointed', 'angry', 'happy', 'happy', 'disappointed', 'happy',\n",
       "       'disappointed', 'happy', 'disappointed', 'disappointed'],\n",
       "      dtype=object)"
      ]
     },
     "execution_count": 15,
     "metadata": {},
     "output_type": "execute_result"
    }
   ],
   "source": [
    "model.predict(X_test)"
   ]
  },
  {
   "cell_type": "code",
   "execution_count": 16,
   "metadata": {},
   "outputs": [
    {
     "data": {
      "text/plain": [
       "691            happy\n",
       "1926           angry\n",
       "1048             sad\n",
       "2106    disappointed\n",
       "1216             sad\n",
       "            ...     \n",
       "739            happy\n",
       "1661           angry\n",
       "340            happy\n",
       "1888           angry\n",
       "1803           angry\n",
       "Name: label, Length: 518, dtype: object"
      ]
     },
     "execution_count": 16,
     "metadata": {},
     "output_type": "execute_result"
    }
   ],
   "source": [
    "y_test"
   ]
  },
  {
   "cell_type": "code",
   "execution_count": 17,
   "metadata": {},
   "outputs": [
    {
     "data": {
      "text/plain": [
       "2488    disappointed\n",
       "2489    disappointed\n",
       "2490    disappointed\n",
       "2491    disappointed\n",
       "2492    disappointed\n",
       "            ...     \n",
       "2583    disappointed\n",
       "2584    disappointed\n",
       "2585    disappointed\n",
       "2586    disappointed\n",
       "2587    disappointed\n",
       "Name: label, Length: 100, dtype: object"
      ]
     },
     "execution_count": 17,
     "metadata": {},
     "output_type": "execute_result"
    }
   ],
   "source": [
    "merged.iloc[-100:, 0]"
   ]
  },
  {
   "cell_type": "code",
   "execution_count": 18,
   "metadata": {},
   "outputs": [],
   "source": [
    "from tensorflow import keras\n",
    "from sklearn.preprocessing import OneHotEncoder\n",
    "\n",
    "model = keras.models.Sequential()\n",
    "model.add(keras.layers.Input((None, X_train.shape[1])))\n",
    "model.add(keras.layers.Dropout(0.5))\n",
    "model.add(keras.layers.Dense(256, activation='relu'))\n",
    "model.add(keras.layers.Dropout(0.5))\n",
    "model.add(keras.layers.Dense(256, activation='relu'))\n",
    "model.add(keras.layers.Dense(4, activation='softmax'))\n",
    "\n",
    "model.compile(optimizer='adam', metrics=['acc'], loss='bce')"
   ]
  },
  {
   "cell_type": "code",
   "execution_count": 19,
   "metadata": {},
   "outputs": [
    {
     "data": {
      "text/plain": [
       "OneHotEncoder(handle_unknown='ignore')"
      ]
     },
     "execution_count": 19,
     "metadata": {},
     "output_type": "execute_result"
    }
   ],
   "source": [
    "encoder = OneHotEncoder(handle_unknown='ignore')\n",
    "encoder.fit(pd.DataFrame(y_train))"
   ]
  },
  {
   "cell_type": "code",
   "execution_count": 20,
   "metadata": {},
   "outputs": [],
   "source": [
    "y_train_enc = encoder.transform(pd.DataFrame(y_train)).toarray()\n",
    "y_test_enc = encoder.transform(pd.DataFrame(y_test)).toarray()"
   ]
  },
  {
   "cell_type": "code",
   "execution_count": 21,
   "metadata": {},
   "outputs": [
    {
     "data": {
      "text/plain": [
       "(2070, 4)"
      ]
     },
     "execution_count": 21,
     "metadata": {},
     "output_type": "execute_result"
    }
   ],
   "source": [
    "y_train_enc.shape"
   ]
  },
  {
   "cell_type": "code",
   "execution_count": 22,
   "metadata": {},
   "outputs": [
    {
     "name": "stdout",
     "output_type": "stream",
     "text": [
      "Epoch 1/30\n",
      "WARNING:tensorflow:Model was constructed with shape (None, None, 3521) for input KerasTensor(type_spec=TensorSpec(shape=(None, None, 3521), dtype=tf.float32, name='input_1'), name='input_1', description=\"created by layer 'input_1'\"), but it was called on an input with incompatible shape (None, 3521).\n",
      "WARNING:tensorflow:Model was constructed with shape (None, None, 3521) for input KerasTensor(type_spec=TensorSpec(shape=(None, None, 3521), dtype=tf.float32, name='input_1'), name='input_1', description=\"created by layer 'input_1'\"), but it was called on an input with incompatible shape (None, 3521).\n",
      "63/65 [============================>.] - ETA: 0s - loss: 0.5662 - acc: 0.3790WARNING:tensorflow:Model was constructed with shape (None, None, 3521) for input KerasTensor(type_spec=TensorSpec(shape=(None, None, 3521), dtype=tf.float32, name='input_1'), name='input_1', description=\"created by layer 'input_1'\"), but it was called on an input with incompatible shape (None, 3521).\n",
      "65/65 [==============================] - 1s 10ms/step - loss: 0.5643 - acc: 0.3821 - val_loss: 0.4761 - val_acc: 0.5212\n",
      "Epoch 2/30\n",
      "65/65 [==============================] - 0s 7ms/step - loss: 0.4564 - acc: 0.4773 - val_loss: 0.3799 - val_acc: 0.6023\n",
      "Epoch 3/30\n",
      "65/65 [==============================] - 0s 7ms/step - loss: 0.4332 - acc: 0.5058 - val_loss: 0.3638 - val_acc: 0.6293\n",
      "Epoch 4/30\n",
      "65/65 [==============================] - 0s 6ms/step - loss: 0.4302 - acc: 0.5000 - val_loss: 0.3508 - val_acc: 0.6216\n",
      "Epoch 5/30\n",
      "65/65 [==============================] - 0s 6ms/step - loss: 0.4163 - acc: 0.5295 - val_loss: 0.3438 - val_acc: 0.6313\n",
      "Epoch 6/30\n",
      "65/65 [==============================] - 0s 6ms/step - loss: 0.4160 - acc: 0.5097 - val_loss: 0.3441 - val_acc: 0.6332\n",
      "Epoch 7/30\n",
      "65/65 [==============================] - 0s 6ms/step - loss: 0.4146 - acc: 0.5135 - val_loss: 0.3429 - val_acc: 0.6158\n",
      "Epoch 8/30\n",
      "65/65 [==============================] - 0s 6ms/step - loss: 0.4121 - acc: 0.4937 - val_loss: 0.3423 - val_acc: 0.6120\n",
      "Epoch 9/30\n",
      "65/65 [==============================] - 0s 6ms/step - loss: 0.4119 - acc: 0.5130 - val_loss: 0.3392 - val_acc: 0.6197\n",
      "Epoch 10/30\n",
      "65/65 [==============================] - 0s 6ms/step - loss: 0.4051 - acc: 0.5150 - val_loss: 0.3372 - val_acc: 0.6100\n",
      "Epoch 11/30\n",
      "65/65 [==============================] - 0s 6ms/step - loss: 0.4087 - acc: 0.5266 - val_loss: 0.3361 - val_acc: 0.6139\n",
      "Epoch 12/30\n",
      "65/65 [==============================] - 0s 6ms/step - loss: 0.4053 - acc: 0.5159 - val_loss: 0.3382 - val_acc: 0.6178\n",
      "Epoch 13/30\n",
      "65/65 [==============================] - 0s 6ms/step - loss: 0.4037 - acc: 0.5242 - val_loss: 0.3399 - val_acc: 0.6081\n",
      "Epoch 14/30\n",
      "65/65 [==============================] - 0s 6ms/step - loss: 0.4040 - acc: 0.5126 - val_loss: 0.3360 - val_acc: 0.6216\n",
      "Epoch 15/30\n",
      "65/65 [==============================] - 0s 6ms/step - loss: 0.3997 - acc: 0.5348 - val_loss: 0.3364 - val_acc: 0.6255\n",
      "Epoch 16/30\n",
      "65/65 [==============================] - 0s 6ms/step - loss: 0.4047 - acc: 0.5169 - val_loss: 0.3358 - val_acc: 0.6255\n",
      "Epoch 17/30\n",
      "65/65 [==============================] - 0s 6ms/step - loss: 0.4058 - acc: 0.5159 - val_loss: 0.3349 - val_acc: 0.6042\n",
      "Epoch 18/30\n",
      "65/65 [==============================] - 0s 6ms/step - loss: 0.3942 - acc: 0.5314 - val_loss: 0.3363 - val_acc: 0.6216\n",
      "Epoch 19/30\n",
      "65/65 [==============================] - 0s 6ms/step - loss: 0.3943 - acc: 0.5304 - val_loss: 0.3370 - val_acc: 0.6139\n",
      "Epoch 20/30\n",
      "65/65 [==============================] - 0s 6ms/step - loss: 0.4001 - acc: 0.5198 - val_loss: 0.3424 - val_acc: 0.6120\n",
      "Epoch 21/30\n",
      "65/65 [==============================] - 0s 6ms/step - loss: 0.3990 - acc: 0.5198 - val_loss: 0.3399 - val_acc: 0.6120\n",
      "Epoch 22/30\n",
      "65/65 [==============================] - 0s 6ms/step - loss: 0.4037 - acc: 0.5097 - val_loss: 0.3367 - val_acc: 0.6100\n",
      "Epoch 23/30\n",
      "65/65 [==============================] - 0s 6ms/step - loss: 0.3931 - acc: 0.5145 - val_loss: 0.3335 - val_acc: 0.6042\n",
      "Epoch 24/30\n",
      "65/65 [==============================] - 0s 6ms/step - loss: 0.3977 - acc: 0.5126 - val_loss: 0.3355 - val_acc: 0.6139\n",
      "Epoch 25/30\n",
      "65/65 [==============================] - 0s 6ms/step - loss: 0.3993 - acc: 0.5126 - val_loss: 0.3386 - val_acc: 0.6100\n",
      "Epoch 26/30\n",
      "65/65 [==============================] - 0s 6ms/step - loss: 0.4014 - acc: 0.5140 - val_loss: 0.3404 - val_acc: 0.6236\n",
      "Epoch 27/30\n",
      "65/65 [==============================] - 0s 6ms/step - loss: 0.4047 - acc: 0.5217 - val_loss: 0.3428 - val_acc: 0.6100\n",
      "Epoch 28/30\n",
      "65/65 [==============================] - 0s 6ms/step - loss: 0.3921 - acc: 0.5319 - val_loss: 0.3395 - val_acc: 0.6178\n",
      "Epoch 29/30\n",
      "65/65 [==============================] - 0s 6ms/step - loss: 0.3974 - acc: 0.5203 - val_loss: 0.3403 - val_acc: 0.6197\n",
      "Epoch 30/30\n",
      "65/65 [==============================] - 0s 6ms/step - loss: 0.3938 - acc: 0.5222 - val_loss: 0.3426 - val_acc: 0.6042\n"
     ]
    },
    {
     "data": {
      "text/plain": [
       "<keras.callbacks.History at 0x275edc1fd90>"
      ]
     },
     "execution_count": 22,
     "metadata": {},
     "output_type": "execute_result"
    }
   ],
   "source": [
    "model.fit(X_train, y_train_enc, validation_data=(X_test, y_test_enc), epochs=30)"
   ]
  },
  {
   "cell_type": "code",
   "execution_count": 23,
   "metadata": {},
   "outputs": [
    {
     "data": {
      "text/plain": [
       "(2070, 3521)"
      ]
     },
     "execution_count": 23,
     "metadata": {},
     "output_type": "execute_result"
    }
   ],
   "source": [
    "X_train.shape"
   ]
  },
  {
   "cell_type": "code",
   "execution_count": 24,
   "metadata": {},
   "outputs": [
    {
     "data": {
      "text/plain": [
       "(2070, 4)"
      ]
     },
     "execution_count": 24,
     "metadata": {},
     "output_type": "execute_result"
    }
   ],
   "source": [
    "y_train_enc.shape"
   ]
  },
  {
   "cell_type": "code",
   "execution_count": 25,
   "metadata": {},
   "outputs": [],
   "source": [
    "model.save(filepath='emoticons.h5')"
   ]
  },
  {
   "cell_type": "code",
   "execution_count": null,
   "metadata": {},
   "outputs": [],
   "source": []
  }
 ],
 "metadata": {
  "interpreter": {
   "hash": "444ccfdd9b7cd673cafd72416c5b635912c8cda90bd0d6dd0d8d3fb871268130"
  },
  "kernelspec": {
   "display_name": "Python 3",
   "language": "python",
   "name": "python3"
  },
  "language_info": {
   "codemirror_mode": {
    "name": "ipython",
    "version": 3
   },
   "file_extension": ".py",
   "mimetype": "text/x-python",
   "name": "python",
   "nbconvert_exporter": "python",
   "pygments_lexer": "ipython3",
   "version": "3.8.8"
  }
 },
 "nbformat": 4,
 "nbformat_minor": 2
}
