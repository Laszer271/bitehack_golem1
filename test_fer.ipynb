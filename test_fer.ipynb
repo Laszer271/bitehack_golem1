{
 "cells": [
  {
   "cell_type": "code",
   "execution_count": 14,
   "metadata": {},
   "outputs": [],
   "source": [
    "import fer\n",
    "import cv2\n",
    "import requests"
   ]
  },
  {
   "cell_type": "code",
   "execution_count": 2,
   "metadata": {},
   "outputs": [
    {
     "data": {
      "text/plain": [
       "[{'box': (88, 84, 193, 193),\n",
       "  'emotions': {'angry': 0.0,\n",
       "   'disgust': 0.0,\n",
       "   'fear': 0.0,\n",
       "   'happy': 0.92,\n",
       "   'sad': 0.0,\n",
       "   'surprise': 0.0,\n",
       "   'neutral': 0.07}}]"
      ]
     },
     "execution_count": 2,
     "metadata": {},
     "output_type": "execute_result"
    }
   ],
   "source": [
    "img = cv2.imread(\"./sample/images/justin.jpg\")\n",
    "detector = fer.FER()\n",
    "detector.detect_emotions(img)"
   ]
  },
  {
   "cell_type": "code",
   "execution_count": 3,
   "metadata": {},
   "outputs": [
    {
     "name": "stdout",
     "output_type": "stream",
     "text": [
      "happy 0.92\n"
     ]
    }
   ],
   "source": [
    "emotion, score = detector.top_emotion(img)\n",
    "print(emotion, score)"
   ]
  },
  {
   "cell_type": "code",
   "execution_count": 4,
   "metadata": {},
   "outputs": [],
   "source": [
    "img_fear = cv2.imread(\"./sample/images/test_fear.jpg\")"
   ]
  },
  {
   "cell_type": "code",
   "execution_count": 5,
   "metadata": {},
   "outputs": [
    {
     "data": {
      "text/plain": [
       "[{'box': (99, 40, 300, 300),\n",
       "  'emotions': {'angry': 0.02,\n",
       "   'disgust': 0.0,\n",
       "   'fear': 0.44,\n",
       "   'happy': 0.01,\n",
       "   'sad': 0.47,\n",
       "   'surprise': 0.03,\n",
       "   'neutral': 0.03}}]"
      ]
     },
     "execution_count": 5,
     "metadata": {},
     "output_type": "execute_result"
    }
   ],
   "source": [
    "detector.detect_emotions(img_fear)"
   ]
  },
  {
   "cell_type": "code",
   "execution_count": 6,
   "metadata": {},
   "outputs": [
    {
     "data": {
      "text/plain": [
       "('sad', 0.47)"
      ]
     },
     "execution_count": 6,
     "metadata": {},
     "output_type": "execute_result"
    }
   ],
   "source": [
    "detector.top_emotion(img_fear)"
   ]
  },
  {
   "cell_type": "code",
   "execution_count": 7,
   "metadata": {},
   "outputs": [],
   "source": [
    "img_neutral = cv2.imread('./sample/images/test_neutral.jpeg')"
   ]
  },
  {
   "cell_type": "code",
   "execution_count": 8,
   "metadata": {},
   "outputs": [
    {
     "data": {
      "text/plain": [
       "[{'box': (102, 60, 276, 276),\n",
       "  'emotions': {'angry': 0.01,\n",
       "   'disgust': 0.0,\n",
       "   'fear': 0.0,\n",
       "   'happy': 0.01,\n",
       "   'sad': 0.01,\n",
       "   'surprise': 0.0,\n",
       "   'neutral': 0.96}}]"
      ]
     },
     "execution_count": 8,
     "metadata": {},
     "output_type": "execute_result"
    }
   ],
   "source": [
    "detector.detect_emotions(img_neutral)"
   ]
  },
  {
   "cell_type": "code",
   "execution_count": 9,
   "metadata": {},
   "outputs": [
    {
     "data": {
      "text/plain": [
       "('neutral', 0.96)"
      ]
     },
     "execution_count": 9,
     "metadata": {},
     "output_type": "execute_result"
    }
   ],
   "source": [
    "detector.top_emotion(img_neutral)"
   ]
  },
  {
   "cell_type": "code",
   "execution_count": 10,
   "metadata": {},
   "outputs": [],
   "source": [
    "img_sad = cv2.imread('./sample/images/test_sad.jpg')"
   ]
  },
  {
   "cell_type": "code",
   "execution_count": 11,
   "metadata": {},
   "outputs": [
    {
     "data": {
      "text/plain": [
       "[{'box': (231, 80, 253, 253),\n",
       "  'emotions': {'angry': 0.03,\n",
       "   'disgust': 0.0,\n",
       "   'fear': 0.35,\n",
       "   'happy': 0.0,\n",
       "   'sad': 0.6,\n",
       "   'surprise': 0.01,\n",
       "   'neutral': 0.0}}]"
      ]
     },
     "execution_count": 11,
     "metadata": {},
     "output_type": "execute_result"
    }
   ],
   "source": [
    "detector.detect_emotions(img_sad)"
   ]
  },
  {
   "cell_type": "code",
   "execution_count": 12,
   "metadata": {},
   "outputs": [
    {
     "data": {
      "text/plain": [
       "('sad', 0.6)"
      ]
     },
     "execution_count": 12,
     "metadata": {},
     "output_type": "execute_result"
    }
   ],
   "source": [
    "detector.top_emotion(img_sad)"
   ]
  },
  {
   "cell_type": "code",
   "execution_count": 20,
   "metadata": {},
   "outputs": [],
   "source": [
    "bad_img_url = 'https://pbs.twimg.com/media/FJIi9A1XsAIrfzY.jpg'\n",
    "img_url = 'https://images.unsplash.com/photo-1438761681033-6461ffad8d80?ixlib=rb-1.2.1&ixid=MnwxMjA3fDB8MHxwaG90by1wYWdlfHx8fGVufDB8fHx8&auto=format&fit=crop&w=2070&q=80'"
   ]
  },
  {
   "cell_type": "code",
   "execution_count": 21,
   "metadata": {},
   "outputs": [],
   "source": [
    "img_data = requests.get(bad_img_url).content\n",
    "with open('./sample/images/bad_image_name.jpg', 'wb') as handler:\n",
    "    handler.write(img_data)"
   ]
  },
  {
   "cell_type": "code",
   "execution_count": 22,
   "metadata": {},
   "outputs": [
    {
     "data": {
      "text/plain": [
       "[]"
      ]
     },
     "execution_count": 22,
     "metadata": {},
     "output_type": "execute_result"
    }
   ],
   "source": [
    "bad_net_img = cv2.imread('./sample/images/bad_image_name.jpg')\n",
    "detector.detect_emotions(bad_net_img)"
   ]
  },
  {
   "cell_type": "code",
   "execution_count": 23,
   "metadata": {},
   "outputs": [
    {
     "data": {
      "text/plain": [
       "(None, None)"
      ]
     },
     "execution_count": 23,
     "metadata": {},
     "output_type": "execute_result"
    }
   ],
   "source": [
    "detector.top_emotion(bad_net_img)"
   ]
  },
  {
   "cell_type": "code",
   "execution_count": 16,
   "metadata": {},
   "outputs": [],
   "source": [
    "img_data = requests.get(img_url).content\n",
    "with open('./sample/images/image_name.jpg', 'wb') as handler:\n",
    "    handler.write(img_data)"
   ]
  },
  {
   "cell_type": "code",
   "execution_count": 17,
   "metadata": {},
   "outputs": [
    {
     "data": {
      "text/plain": [
       "[{'box': (767, 330, 574, 574),\n",
       "  'emotions': {'angry': 0.01,\n",
       "   'disgust': 0.0,\n",
       "   'fear': 0.02,\n",
       "   'happy': 0.05,\n",
       "   'sad': 0.04,\n",
       "   'surprise': 0.0,\n",
       "   'neutral': 0.87}}]"
      ]
     },
     "execution_count": 17,
     "metadata": {},
     "output_type": "execute_result"
    }
   ],
   "source": [
    "net_img = cv2.imread('./sample/images/image_name.jpg')\n",
    "detector.detect_emotions(net_img)"
   ]
  },
  {
   "cell_type": "code",
   "execution_count": 18,
   "metadata": {},
   "outputs": [
    {
     "data": {
      "text/plain": [
       "('neutral', 0.87)"
      ]
     },
     "execution_count": 18,
     "metadata": {},
     "output_type": "execute_result"
    }
   ],
   "source": [
    "detector.top_emotion(net_img)"
   ]
  }
 ],
 "metadata": {
  "interpreter": {
   "hash": "7a19fcfb67870ef4c5e6bd3b2f8f8af7f68cf36ccc67c59e9f85525212b1037b"
  },
  "kernelspec": {
   "display_name": "Python 3.9.7 64-bit ('venv': venv)",
   "language": "python",
   "name": "python3"
  },
  "language_info": {
   "codemirror_mode": {
    "name": "ipython",
    "version": 3
   },
   "file_extension": ".py",
   "mimetype": "text/x-python",
   "name": "python",
   "nbconvert_exporter": "python",
   "pygments_lexer": "ipython3",
   "version": "3.9.7"
  },
  "orig_nbformat": 4
 },
 "nbformat": 4,
 "nbformat_minor": 2
}
