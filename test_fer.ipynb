{
 "cells": [
  {
   "cell_type": "code",
   "execution_count": 2,
   "metadata": {},
   "outputs": [],
   "source": [
    "import fer\n",
    "import cv2"
   ]
  },
  {
   "cell_type": "code",
   "execution_count": 4,
   "metadata": {},
   "outputs": [
    {
     "data": {
      "text/plain": [
       "[{'box': (88, 84, 193, 193),\n",
       "  'emotions': {'angry': 0.0,\n",
       "   'disgust': 0.0,\n",
       "   'fear': 0.0,\n",
       "   'happy': 0.92,\n",
       "   'sad': 0.0,\n",
       "   'surprise': 0.0,\n",
       "   'neutral': 0.07}}]"
      ]
     },
     "execution_count": 4,
     "metadata": {},
     "output_type": "execute_result"
    }
   ],
   "source": [
    "img = cv2.imread(\"./sample/images/justin.jpg\")\n",
    "detector = fer.FER()\n",
    "detector.detect_emotions(img)"
   ]
  },
  {
   "cell_type": "code",
   "execution_count": 10,
   "metadata": {},
   "outputs": [
    {
     "name": "stdout",
     "output_type": "stream",
     "text": [
      "happy 0.92\n"
     ]
    }
   ],
   "source": [
    "emotion, score = detector.top_emotion(img)\n",
    "print(emotion, score)"
   ]
  },
  {
   "cell_type": "code",
   "execution_count": null,
   "metadata": {},
   "outputs": [],
   "source": []
  }
 ],
 "metadata": {
  "interpreter": {
   "hash": "7a19fcfb67870ef4c5e6bd3b2f8f8af7f68cf36ccc67c59e9f85525212b1037b"
  },
  "kernelspec": {
   "display_name": "Python 3.9.7 64-bit ('venv': venv)",
   "language": "python",
   "name": "python3"
  },
  "language_info": {
   "codemirror_mode": {
    "name": "ipython",
    "version": 3
   },
   "file_extension": ".py",
   "mimetype": "text/x-python",
   "name": "python",
   "nbconvert_exporter": "python",
   "pygments_lexer": "ipython3",
   "version": "3.9.7"
  },
  "orig_nbformat": 4
 },
 "nbformat": 4,
 "nbformat_minor": 2
}
