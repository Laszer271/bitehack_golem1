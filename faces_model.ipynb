{
 "cells": [
  {
   "cell_type": "code",
   "execution_count": 5,
   "metadata": {},
   "outputs": [],
   "source": [
    "import fer\n",
    "import cv2\n",
    "import requests\n",
    "\n",
    "from pathlib import Path"
   ]
  },
  {
   "cell_type": "code",
   "execution_count": 6,
   "metadata": {},
   "outputs": [],
   "source": [
    "img_url = 'https://bit.ly/33y6KzD'\n",
    "Path(\"./faces_data/images/\").mkdir(parents=True, exist_ok=True)"
   ]
  },
  {
   "cell_type": "code",
   "execution_count": 7,
   "metadata": {},
   "outputs": [],
   "source": [
    "img_data = requests.get(img_url).content\n",
    "with open('./faces_data/images/image.jpg', 'wb') as handler:\n",
    "    handler.write(img_data)"
   ]
  },
  {
   "cell_type": "code",
   "execution_count": 8,
   "metadata": {},
   "outputs": [],
   "source": [
    "detector = fer.FER()\n",
    "\"\"\"\n",
    "Detects 7 classes overall:\n",
    "* angry\n",
    "* disgust\n",
    "* fear\n",
    "* happy \n",
    "* sad \n",
    "* suprise\n",
    "* neutral\n",
    "\"\"\"\n",
    "\n",
    "img = cv2.imread('./faces_data/images/image.jpg')\n",
    "\n",
    "if not detector.detect_emotions(img):\n",
    "    raise Exception(\"Face not detected in image - can't detect emotions\")\n",
    "else:\n",
    "    emotion, score = detector.top_emotion(img)\n"
   ]
  },
  {
   "cell_type": "code",
   "execution_count": 9,
   "metadata": {},
   "outputs": [
    {
     "name": "stdout",
     "output_type": "stream",
     "text": [
      "neutral 0.87\n"
     ]
    }
   ],
   "source": [
    "print(emotion, score)"
   ]
  }
 ],
 "metadata": {
  "interpreter": {
   "hash": "7a19fcfb67870ef4c5e6bd3b2f8f8af7f68cf36ccc67c59e9f85525212b1037b"
  },
  "kernelspec": {
   "display_name": "Python 3.9.7 64-bit ('venv': venv)",
   "language": "python",
   "name": "python3"
  },
  "language_info": {
   "codemirror_mode": {
    "name": "ipython",
    "version": 3
   },
   "file_extension": ".py",
   "mimetype": "text/x-python",
   "name": "python",
   "nbconvert_exporter": "python",
   "pygments_lexer": "ipython3",
   "version": "3.9.7"
  },
  "orig_nbformat": 4
 },
 "nbformat": 4,
 "nbformat_minor": 2
}
